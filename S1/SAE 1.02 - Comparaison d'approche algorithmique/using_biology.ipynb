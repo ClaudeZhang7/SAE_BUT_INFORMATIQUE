{
 "cells": [
  {
   "cell_type": "markdown",
   "id": "a023b3ed",
   "metadata": {},
   "source": [
    "# Notebook de présentation de la SAE S01.02"
   ]
  },
  {
   "cell_type": "markdown",
   "id": "47840237",
   "metadata": {},
   "source": [
    "## Binôme \n",
    "\n",
    "* ZHANG Claude\n",
    "* TLEMSANI Sofiane "
   ]
  },
  {
   "cell_type": "code",
   "execution_count": 2,
   "id": "e2dbe7e8",
   "metadata": {},
   "outputs": [
    {
     "name": "stdout",
     "output_type": "stream",
     "text": [
      "Test de la fonction : OK \n",
      "Test de la fonction : OK \n",
      "Test de la fonction : OK \n",
      "Test de la fonction : OK \n",
      "Test de la fonction : Ok\n",
      "Test de la fonction : OK\n",
      "Test de la fonction : OK\n",
      "Test de la fonction : OK\n",
      "Test de la fonction : OK\n",
      "Test de la fonction : OK\n",
      "Test de la fonction : OK\n",
      "Test de la fonction : OK\n"
     ]
    }
   ],
   "source": [
    "from json import *\n",
    "import copy\n",
    "import biology as b\n",
    "import test_biology as test_b\n"
   ]
  },
  {
   "cell_type": "markdown",
   "id": "c2498bc7",
   "metadata": {},
   "source": [
    "### PARTIE I"
   ]
  },
  {
   "cell_type": "markdown",
   "id": "f771db82",
   "metadata": {},
   "source": [
    " ### QUESTION 1 : \n",
    " \n",
    " *Définir la fonction est_base prenant en paramètre un caractère et retournant True si ce caractère correspond à une base de l'ADN (est un des caractères A, T, G, C), et False sinon.*"
   ]
  },
  {
   "cell_type": "code",
   "execution_count": 4,
   "id": "91e225f6",
   "metadata": {},
   "outputs": [
    {
     "data": {
      "text/plain": [
       "True"
      ]
     },
     "execution_count": 4,
     "metadata": {},
     "output_type": "execute_result"
    }
   ],
   "source": [
    "b.est_base(\"C\")"
   ]
  },
  {
   "cell_type": "markdown",
   "id": "c73939d5",
   "metadata": {},
   "source": [
    "### QUESTION 2 :\n",
    "\n",
    "*Définir la fonction est_adn prenant en paramètre une chaîne de caractères et retournant True si la chaîne correspond à un ADN (est constituée uniquement des caractères A, T, G, C), et False sinon.*"
   ]
  },
  {
   "cell_type": "code",
   "execution_count": 5,
   "id": "1ea6f9a8",
   "metadata": {},
   "outputs": [
    {
     "data": {
      "text/plain": [
       "True"
      ]
     },
     "execution_count": 5,
     "metadata": {},
     "output_type": "execute_result"
    }
   ],
   "source": [
    "b.est_adn(\"ATGTCAAA\")"
   ]
  },
  {
   "cell_type": "markdown",
   "id": "3620ed5d",
   "metadata": {},
   "source": [
    "### QUESTION 3 :\n",
    "\n",
    "*Définir la fonction arn prenant en paramètre une séquence d'ADN et retournant la séquence ARN associée.*"
   ]
  },
  {
   "cell_type": "code",
   "execution_count": 6,
   "id": "085ce733",
   "metadata": {},
   "outputs": [
    {
     "data": {
      "text/plain": [
       "'AUGACCU'"
      ]
     },
     "execution_count": 6,
     "metadata": {},
     "output_type": "execute_result"
    }
   ],
   "source": [
    "b.arn(\"ATGACCT\")"
   ]
  },
  {
   "cell_type": "markdown",
   "id": "425ee1d4",
   "metadata": {},
   "source": [
    "### QUESTION 4 :\n",
    "\n",
    "*Définir la fonction arn_to_codons prenant en paramètre une chaîne de caractères correspondant à de l'ARN et découpant cet ARN en codons. La fonction doit retourner un tableau contenant la liste des codons.\n",
    "Par exemple, l'appel de la fonction arn_to_codons avec l'ARN \"CGUUAGGGG\" doit retourner le tableau [\"CGU\", \"UAG\", \"GGG\"].*"
   ]
  },
  {
   "cell_type": "code",
   "execution_count": 7,
   "id": "10758ac8",
   "metadata": {},
   "outputs": [
    {
     "data": {
      "text/plain": [
       "['CUC']"
      ]
     },
     "execution_count": 7,
     "metadata": {},
     "output_type": "execute_result"
    }
   ],
   "source": [
    "b.arn_to_codons(\"CUCGG\")"
   ]
  },
  {
   "cell_type": "markdown",
   "id": "0b7a3991",
   "metadata": {},
   "source": [
    "### QUESTION 5 :\n",
    "\n",
    "##### Remarque : Les chemins de fichier sont les notres vous devenez les changer en fonction de où ce trouve votre répertoire data avec codons_aa.json\n",
    "\n",
    "\n",
    "\n",
    " *Définir la fonction load_dico_codons_aa qui prend en paramètre un fichier au format JSON et retourne la structure de données chargée en mémoire à partir du JSON.*\n",
    "\n"
   ]
  },
  {
   "cell_type": "code",
   "execution_count": 8,
   "id": "550c43e0",
   "metadata": {},
   "outputs": [
    {
     "name": "stdout",
     "output_type": "stream",
     "text": [
      "{'UUU': 'Phenylalanine', 'UUC': 'Phenylalanine', 'UUA': 'Leucine', 'UUG': 'Leucine', 'CUU': 'Leucine', 'CUC': 'Leucine', 'CUA': 'Leucine', 'CUG': 'Leucine', 'AUU': 'Isoleucine', 'AUC': 'Isoleucine', 'AUA': 'Methionine', 'AUG': 'Methionine', 'GUU': 'Valine', 'GUC': 'Valine', 'GUA': 'Valine', 'GUG': 'Valine', 'UCU': 'Serine', 'UCC': 'Serine', 'UCA': 'Serine', 'UCG': 'Serine', 'CCU': 'Proline', 'CCC': 'Proline', 'CCA': 'Proline', 'CCG': 'Proline', 'ACU': 'Threonine', 'ACC': 'Threonine', 'ACA': 'Threonine', 'ACG': 'Threonine', 'GCU': 'Alanine', 'GCC': 'Alanine', 'GCA': 'Alanine', 'GCG': 'Alanine', 'UAU': 'Tyrosine', 'UAC': 'Tyrosine', 'CAU': 'Histidine', 'CAC': 'Histidine', 'CAA': 'Glutamine', 'CAG': 'Glutamine', 'AAU': 'Asparagine', 'AAC': 'Asparagine', 'AAA': 'Lysine', 'AAG': 'Lysine', 'GAU': 'Aspartic acid', 'GAC': 'Aspartic acid', 'GAA': 'Glutamic acid', 'GAG': 'Glutamic acid', 'UGU': 'Cysteine', 'UGC': 'Cysteine', 'UGA': 'Tryptophan', 'UGG': 'Tryptophan', 'CGU': 'Arginine', 'CGC': 'Arginine', 'CGA': 'Arginine', 'CGG': 'Arginine', 'AGU': 'Serine', 'AGC': 'Serine', 'GGU': 'Glycine', 'GGC': 'Glycine', 'GGA': 'Glycine', 'GGG': 'Glycine'}\n"
     ]
    }
   ],
   "source": [
    "dictionnaire = b.load_dico_codons_aa(r\"D:\\Projet\\Initiation au dev 2\\Partie_2\\sae_s01.02-main\\data/codons_aa.json\")\n",
    "print(dictionnaire)"
   ]
  },
  {
   "cell_type": "markdown",
   "id": "4fdd4764",
   "metadata": {},
   "source": [
    "\n",
    "*Définir la fonction codons_stop prenant en paramètre un dictionnaire dont les clés sont les codons et les valeurs les acides aminés correspondants (chaînes de caractères). La fonction retournera un tableau contenant l'ensemble des codons stop, c'est-à-dire l'ensemble des codons possibles avec les caractères AUGC qui ne sont pas des clés du dictionnaire.*"
   ]
  },
  {
   "cell_type": "code",
   "execution_count": 9,
   "id": "409f955a",
   "metadata": {},
   "outputs": [
    {
     "data": {
      "text/plain": [
       "['AGA', 'AGG', 'UAA', 'UAG']"
      ]
     },
     "execution_count": 9,
     "metadata": {},
     "output_type": "execute_result"
    }
   ],
   "source": [
    "b.codons_stop(dictionnaire)"
   ]
  },
  {
   "cell_type": "markdown",
   "id": "f046c527",
   "metadata": {},
   "source": [
    "### QUESTION 6 :\n",
    "\n",
    "*Définir la fonction codons_to_aa prenant en paramètre un tableau de codons (correspondant par exemple à une valeur retournée par la fonction arn_to_codons) et le dictionnaire de correspondance entre codons et acides aminés. La fonction devra retourner un tableau contenant les acides aminés correspondant aux codons.*"
   ]
  },
  {
   "cell_type": "code",
   "execution_count": 10,
   "id": "2263bbb1",
   "metadata": {},
   "outputs": [
    {
     "data": {
      "text/plain": [
       "['Arginine', 'Asparagine', 'Tryptophan']"
      ]
     },
     "execution_count": 10,
     "metadata": {},
     "output_type": "execute_result"
    }
   ],
   "source": [
    "b.codons_to_aa([\"CGU\", \"AAU\", \"UGA\", \"UAG\", \"CGU\"],dictionnaire)"
   ]
  },
  {
   "cell_type": "markdown",
   "id": "5b828b52",
   "metadata": {},
   "source": [
    "### PARTIE II"
   ]
  },
  {
   "cell_type": "markdown",
   "id": "3340a7a1",
   "metadata": {},
   "source": [
    "### QUESTION 1 :\n",
    "\n",
    "*Définir la fonction nextIndice prenant en paramètre un tableau tab, un indice ind de tab, et un deuxième\n",
    "tableau elements. La fonction recherche dans le tableau tab à partir de \n",
    "l'indice ind et retourne l'indice de la première case du tableau tab contenant une valeur \n",
    "de elements.*"
   ]
  },
  {
   "cell_type": "code",
   "execution_count": 11,
   "id": "13c6f95a",
   "metadata": {},
   "outputs": [
    {
     "data": {
      "text/plain": [
       "4"
      ]
     },
     "execution_count": 11,
     "metadata": {},
     "output_type": "execute_result"
    }
   ],
   "source": [
    "b.nextIndice([\"bonjour\", \"hello\", \"buongiorno\", \"ciao\",\"bye\"],3,[\"hello\",\"bye\"])\n",
    "    "
   ]
  },
  {
   "cell_type": "markdown",
   "id": "1f0805d6",
   "metadata": {},
   "source": [
    "### QUESTION 2 :\n",
    "\n",
    "*Définir la fonction decoupe_sequence prenant en paramètre trois tableaux seq, start et stop. La fonction doit découper le tableau seq en séquences et retourner un tableau contenant les différents morceaux. Un morceau dans le tableau seq est une partie non vide de seq comprise entre une valeur de start et une valeur de stop.*"
   ]
  },
  {
   "cell_type": "code",
   "execution_count": 12,
   "id": "8cf9004f",
   "metadata": {},
   "outputs": [],
   "source": [
    "#on assigne nos paramètres avant d'éxecuter la fonction\n",
    "sequ = [\"val1\", \"début\", \"val2\", \"val3\", \"end\", \"val4\", \"fin\", \"begin\", \"val5\", \"fin\", \"val6\"]\n",
    "staart = [\"début\", \"begin\"]\n",
    "stoop = [\"fin\", \"end\"]"
   ]
  },
  {
   "cell_type": "code",
   "execution_count": 13,
   "id": "1a32a8b6",
   "metadata": {},
   "outputs": [
    {
     "data": {
      "text/plain": [
       "[['val2', 'val3'], ['val5']]"
      ]
     },
     "execution_count": 13,
     "metadata": {},
     "output_type": "execute_result"
    }
   ],
   "source": [
    "b.decoupe_sequence(sequ,staart,stoop)"
   ]
  },
  {
   "cell_type": "markdown",
   "id": "ec9518e0",
   "metadata": {},
   "source": [
    "### QUESTION 3 :\n",
    "\n",
    "*Définir la fonction codons_to_seq_codantes qui prend en paramètre une séquence de codons et le dictionnaire de correspondance entre codons et acides aminés, et découpe la séquence de codons en séquences codantes. Les différentes séquences sont stockées dans un tableau. L'apel de la fonction codons_to_seq_codantes avec la séquence  [\"CGU\", \"UUU\", \"AUG\", \"CGU\", \"AUG\", \"AAU\", \"UAA\", \"AUG\", \"GGG\", \"CCC\",  \"CGU\", \"UAG\", \"GGG\"] doit retourner le tableau : * "
   ]
  },
  {
   "cell_type": "code",
   "execution_count": 17,
   "id": "3f464c85",
   "metadata": {},
   "outputs": [
    {
     "data": {
      "text/plain": [
       "[['CGU', 'AUG', 'AAU'], ['GGG', 'CCC', 'CGU']]"
      ]
     },
     "execution_count": 17,
     "metadata": {},
     "output_type": "execute_result"
    }
   ],
   "source": [
    "b.codons_to_seq_codantes([\"CGU\", \"UUU\", \"AUG\", \"CGU\", \"AUG\", \"AAU\", \"UAA\", \"AUG\", \"GGG\", \"CCC\",  \"CGU\", \"UAG\", \"GGG\"],dictionnaire)\n"
   ]
  },
  {
   "cell_type": "markdown",
   "id": "a2d127c3",
   "metadata": {},
   "source": [
    "### Question 4 :\n",
    "    \n",
    "*Définir la fonction seq_codantes_to_seq_aas prenant en paramètre un tableau de séquences codantes (même type que les valeurs retournées par la fonction précédente) et le dictionnaire de correspondance entre codons et acides aminés, et retournant un tableau contenant les différentes séquences d’acides aminés codées par les différentes séquences codantes. L’appel de la fonction avec le tableau retourné dans l’exemple de la fonction doit retourner le tableau : \n"
   ]
  },
  {
   "cell_type": "code",
   "execution_count": 19,
   "id": "e745d4e4",
   "metadata": {},
   "outputs": [
    {
     "data": {
      "text/plain": [
       "[['Arginine', 'Methionine', 'Asparagine'], ['Glycine', 'Proline', 'Arginine']]"
      ]
     },
     "execution_count": 19,
     "metadata": {},
     "output_type": "execute_result"
    }
   ],
   "source": [
    "b.seq_codantes_to_seq_aas([[\"CGU\", \"AUG\", \"AAU\"],[\"GGG\", \"CCC\", \"CGU\"]],dictionnaire)\n"
   ]
  },
  {
   "cell_type": "markdown",
   "id": "d2dfe5e9",
   "metadata": {},
   "source": [
    "### Question 5 :\n",
    "\n",
    "*Définir la fonction adn_encode_molecule prenant en parmètre un brin d’ADN, le dictionnaire de correspondance entre codons et acides aminés et une molécule (séquence d’acide aminées). La fonction doit retourner si l’ARN obtenu à partir de l’ADN puis découpé en codons contient une séquence codante correspondant à la molécule, c’est-à-dire si la séquence d’acide aminée correspondant à une séquence codante est la même que la molécule. Par exemple, l’appel de la fonction avec l’ADN et la molécule doit retourner :\n"
   ]
  },
  {
   "cell_type": "code",
   "execution_count": 20,
   "id": "c5e07711",
   "metadata": {},
   "outputs": [
    {
     "data": {
      "text/plain": [
       "True"
      ]
     },
     "execution_count": 20,
     "metadata": {},
     "output_type": "execute_result"
    }
   ],
   "source": [
    "b.adn_encode_molecule(\"CGTTTTATGCGTATGAATTAAATGGGGCCCCGTTAGGGG\",dictionnaire,[\"Glycine\", \"Proline\", \"Arginine\"])"
   ]
  }
 ],
 "metadata": {
  "kernelspec": {
   "display_name": "Python 3",
   "language": "python",
   "name": "python3"
  },
  "language_info": {
   "codemirror_mode": {
    "name": "ipython",
    "version": 3
   },
   "file_extension": ".py",
   "mimetype": "text/x-python",
   "name": "python",
   "nbconvert_exporter": "python",
   "pygments_lexer": "ipython3",
   "version": "3.8.8"
  }
 },
 "nbformat": 4,
 "nbformat_minor": 5
}
