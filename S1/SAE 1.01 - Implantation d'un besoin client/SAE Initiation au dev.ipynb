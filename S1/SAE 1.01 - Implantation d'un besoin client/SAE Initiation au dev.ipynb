{
 "cells": [
  {
   "cell_type": "markdown",
   "metadata": {
    "deletable": false,
    "editable": false,
    "run_control": {
     "frozen": true
    }
   },
   "source": [
    "# SAE : Implémentation d'un besoin client\n",
    "# <center> Codage et décodage </center>"
   ]
  },
  {
   "cell_type": "markdown",
   "metadata": {
    "deletable": false,
    "editable": false,
    "run_control": {
     "frozen": true
    }
   },
   "source": [
    "L'objectif de ce projet est d'implanter différentes techniques de codage et décodage de l'information. \n",
    "Plus précisément, on s'intéressera ici à deux  méthodes qui ont des objectifs assez différents: \n",
    "- le **codage à bit de parité simple** qui permet de vérifier que l'information reçue n'a pas été altérée au cours de la transmission;\n",
    "- le **chiffrement de César** qui permet de chiffrer l'information à transmettre."
   ]
  },
  {
   "cell_type": "markdown",
   "metadata": {
    "deletable": false,
    "editable": false,
    "run_control": {
     "frozen": true
    }
   },
   "source": [
    "**Ce projet est à faire en binôme.**\n",
    "\n",
    "#### Planning\n",
    "- Pour le 4 octobre : implanter les fonctions de la partie préliminaire et comprendre le principe du codage à bit de parité simple. \n",
    "- Pour le 11 octobre : implanter les fonctions de ârtie codage à bit de parité simple et comprendre le principe du chiffrement de césar.\n",
    "- Pour le 18 octobre : implanter les fonctions et programmes des questions 1 à 5 de la partie chiffrement de César.\n",
    "- Pour le 24 octobre : implanter les fonctions et programmes des questions 6 à 8 de la partie chiffrement de César \n",
    "- **Rendu** : l'ensemble est à envoyer au plus tard le dimanche **24 octobre**.\n",
    "\n",
    "Pour chaque fonction demandée, un exemple d'appel ou des tests unitaires sont donnés de manière à vérifier la conformité de votre proposition.\n",
    "\n",
    "Lorsque l'on convertit des chaînes de caractères en nombres et *vice versa*, on a souvent recours à des **casts**. \n",
    "\n",
    "Lorsque l'on manipule des caractères, il est également utile d'accéder à leur unicode et *vice versa*. En Python, cela se fait via les fonctions `ord` et `chr` respectivement."
   ]
  },
  {
   "cell_type": "markdown",
   "metadata": {
    "deletable": false,
    "editable": false,
    "run_control": {
     "frozen": true
    }
   },
   "source": [
    "## Préliminaires\n",
    "\n",
    "Pour implanter les différentes méthodes de codage et décodage, certaines fonctions sont bien utiles. Ce sont ces fonctions qui font l'objet de cette partie préliminaire."
   ]
  },
  {
   "cell_type": "markdown",
   "metadata": {
    "deletable": false,
    "editable": false,
    "run_control": {
     "frozen": true
    }
   },
   "source": [
    "### Question 1 : Saisie contrôlée d'un entier positif\n",
    "Ecrire une fonction  de saisie contrôlée `saisieIntPos` demandant à l'utilisateur un entier positif ou nul et le lui redemandant jusqu'à ce que ce soit un entier positif ou nul."
   ]
  },
  {
   "cell_type": "code",
   "execution_count": 4,
   "metadata": {},
   "outputs": [
    {
     "name": "stdout",
     "output_type": "stream",
     "text": [
      "5\n",
      "Lentier saisi est  5\n"
     ]
    }
   ],
   "source": [
    "#-------------------------#\n",
    "def saisieIntPos(n):\n",
    "    while n < 0 :\n",
    "        n=int(input())\n",
    "    else : \n",
    "        return n\n",
    "        \n",
    "    \n",
    "\n",
    "           \n",
    "        \n",
    "    \n",
    "\n",
    "\n",
    "a=int(input())\n",
    "alpha = saisieIntPos(a)\n",
    "print(\"Lentier saisi est \", alpha)\n",
    "\n",
    "#-------------------------#\n",
    "\n",
    "\n",
    "\n",
    "\n",
    "\n",
    "\n",
    "\n",
    "\n",
    "\n"
   ]
  },
  {
   "cell_type": "code",
   "execution_count": 5,
   "metadata": {},
   "outputs": [
    {
     "name": "stdout",
     "output_type": "stream",
     "text": [
      "l'entier saisi est 2\n"
     ]
    }
   ],
   "source": [
    "# ------------  TEST/EXEMPLE ---------- #\n",
    "print(\"l'entier saisi est\", saisieIntPos(2))"
   ]
  },
  {
   "cell_type": "markdown",
   "metadata": {
    "deletable": false,
    "editable": false,
    "run_control": {
     "frozen": true
    }
   },
   "source": [
    "### Question 2 : Saisie d'un entier positif  qui s'écrit sur 10 bits\n",
    "Le plus grand entier positif que l'on puisse écrire en binaire sur 10 bits est 1023 (car 10000000000 en binaire vaut 1024 en décimal).\n",
    "\n",
    "Ecrire une fonction  de saisie contrôlée `saisieIntPos10Bits` demandant à l'utilisateur un entier compris entre 0 (inclus) et 1023 (inclus) et lui redemandant un entier jusqu'à ce que ce soit qu'il soit correct."
   ]
  },
  {
   "cell_type": "code",
   "execution_count": 6,
   "metadata": {},
   "outputs": [
    {
     "name": "stdout",
     "output_type": "stream",
     "text": [
      "10\n",
      "L'entier saisi est :  10\n"
     ]
    }
   ],
   "source": [
    "#-------------------------#\n",
    "from random import *\n",
    "def saisieIntPos10Bits(entier):\n",
    "    \n",
    "    while entier <0 or entier > 1023:\n",
    "        \n",
    "        print(\"Pas d'idée ? KDO :\", randint(0,1023))\n",
    "        entier = int(input())\n",
    "        \n",
    "    else : \n",
    "        \n",
    "        return entier\n",
    "    \n",
    "            \n",
    "                             \n",
    "        \n",
    "           \n",
    "    \n",
    "a = int(input())    \n",
    "bits = saisieIntPos10Bits(a)\n",
    "print(\"L'entier saisi est : \", bits)\n",
    "\n",
    "\n",
    "\n",
    "\n",
    "#-------------------------#\n",
    "\n",
    "\n"
   ]
  },
  {
   "cell_type": "code",
   "execution_count": 7,
   "metadata": {},
   "outputs": [
    {
     "name": "stdout",
     "output_type": "stream",
     "text": [
      "l'entier saisi est 498\n"
     ]
    }
   ],
   "source": [
    "# ------------  TEST/EXEMPLE ---------- #\n",
    "print(\"l'entier saisi est\",saisieIntPos10Bits(498))"
   ]
  },
  {
   "cell_type": "markdown",
   "metadata": {
    "deletable": false,
    "editable": false,
    "run_control": {
     "frozen": true
    }
   },
   "source": [
    "### Question 3 : Saisie contrôlée d'un entier compris entre a et b\n",
    "Ecrire une fonction  de saisie contrôlée `saisieIntab` demandant à l'utilisateur un entier compris entre a (inclus) et b (inclus) et lui redemandant un entier jusqu'à ce que ce soit qu'il soit dans le bon intervalle.\n",
    "\n",
    "On ne vérifiera pas que a est plus petit que b."
   ]
  },
  {
   "cell_type": "code",
   "execution_count": 8,
   "metadata": {},
   "outputs": [
    {
     "name": "stdout",
     "output_type": "stream",
     "text": [
      "Saisir l'intervalle de : \n",
      "10\n",
      " a \n",
      "50\n",
      "Saisir la valeur de l'entier\n",
      "40\n",
      "L'entier saisie est : 40\n"
     ]
    }
   ],
   "source": [
    "#-------------------------#\n",
    "def saisieIntab(a,b):\n",
    "    n=int(input())\n",
    "    \n",
    "    while n <a or n > b:\n",
    "        \n",
    "        \n",
    "        n = int(input())\n",
    "        \n",
    "    else : \n",
    "        \n",
    "        return n\n",
    "    \n",
    "\n",
    "\n",
    "    \n",
    "print(\"Saisir l'intervalle de : \")   \n",
    "a=int(input())\n",
    "print(\" a \")\n",
    "b=int(input())\n",
    "print(\"Saisir la valeur de l'entier\")\n",
    "resultat = saisieIntab(a,b)\n",
    "\n",
    "print(\"L'entier saisie est :\", resultat)\n",
    "\n",
    "\n",
    "\n",
    "#-------------------------#\n",
    "\n",
    "\n"
   ]
  },
  {
   "cell_type": "code",
   "execution_count": 9,
   "metadata": {},
   "outputs": [
    {
     "name": "stdout",
     "output_type": "stream",
     "text": [
      "5\n",
      "l'entier saisi est 5\n"
     ]
    }
   ],
   "source": [
    "# ------------  TEST/EXEMPLE ---------- #\n",
    "print(\"l'entier saisi est\",saisieIntab(1,25))"
   ]
  },
  {
   "cell_type": "markdown",
   "metadata": {},
   "source": [
    "### Question 4 : Verification de la binarité d'une chaîne\n",
    "Ecrire une fonction `verifBin` qui permet de vérifier qu'une chaîne de caractères ne contient que des `0` et des `1`.\n",
    "Elle prendra en paramètre une chaîne de caractère `s_bin` et retournera `True` si la chaîne n'est composée que de`0` et de `1` et `False` sinon."
   ]
  },
  {
   "cell_type": "code",
   "execution_count": 10,
   "metadata": {},
   "outputs": [
    {
     "name": "stdout",
     "output_type": "stream",
     "text": [
      "True\n"
     ]
    }
   ],
   "source": [
    "#-------------------------#\n",
    "def verifBin(s_bin):\n",
    "    i=0\n",
    "    while i < len(s_bin):\n",
    "        if s_bin[i] != \"1\" and s_bin[i] != \"0\":\n",
    "            return False\n",
    "        i=i+1\n",
    "    return True\n",
    "\n",
    "\n",
    "        \n",
    "    \n",
    "            \n",
    "    \n",
    "    \n",
    "tab=\"0110\"\n",
    "bin=verifBin(tab)   \n",
    "print(bin)\n",
    "                \n",
    "    \n",
    "            \n",
    "     \n",
    "        \n",
    "        \n",
    "\n",
    "\n",
    "\n",
    "\n",
    "\n",
    "\n",
    "#-------------------------#\n",
    "\n",
    "\n"
   ]
  },
  {
   "cell_type": "code",
   "execution_count": 11,
   "metadata": {},
   "outputs": [
    {
     "name": "stdout",
     "output_type": "stream",
     "text": [
      "test ok\n"
     ]
    }
   ],
   "source": [
    "# ------------  TEST/EXEMPLE ---------- #\n",
    "def test_verifBin():\n",
    "    assert verifBin('0000')\n",
    "    assert verifBin('0110')\n",
    "    assert not verifBin('2981')\n",
    "    assert not verifBin('andei')\n",
    "    assert not verifBin('2&@')\n",
    "    print(\"test ok\")\n",
    "\n",
    "test_verifBin()"
   ]
  },
  {
   "cell_type": "markdown",
   "metadata": {},
   "source": [
    "### Question 5 : Conversion d'un nombre décimal en binaire \n",
    "\n",
    "Pour transmettre l'information, on est souvent amené à convertir en binaire des nombres décimaux. Par exemple, Le nombre `13` écrit en base 10 se code `1101` en binaire.\n",
    "\n",
    "*Comment effectuer ce codage ?*\n",
    "\n",
    "On peut utiliser la méthode des divisions successives par 2.\n",
    "\n",
    "**Rappels :** En Python,\n",
    "- le quotient d'une division euclidienne s'obtient en utilisant l'opérateur `//` ; ainsi `5//2=2`\n",
    "- le reste d'une division euclidienne s'obtient en utilisant l'opérateur `%`; ainsi `5%2=1`\n",
    "\n",
    "```\n",
    "   \t             .\n",
    "   \t            / \\   <--- sens de lecture des restes pour former le nombre binaire\n",
    "13 // 2   = 6   \t|   \n",
    "13 %  2   = 1    |   reste = 1\n",
    "                 |\n",
    "6 // 2    = 3   \t|   \n",
    "6  %  2   = 0   \t|   reste = 0\n",
    "                 |  \n",
    "3 // 2    = 1    |   \n",
    "3 %  2    = 1    |   reste = 1\n",
    "                 |\n",
    "1  // 2   = 0  \t |                  <---- On arrête, car le quotient est égal à 0\n",
    "1  % 2    = 1    |   reste = 1\n",
    "   \t             |                  \n",
    "Le nombre 13 en base 10 se code 1101 en binaire.\n",
    "```\n",
    "\n",
    "Ecrire une fonction `int2bin` prenant en paramètre un entier positif `n` écrit en base 10  et retournant une chaine de caractères correspondant à ce nombre codé en binaire en utilisant la méthode des divisions successives.\n",
    "\n",
    "On pensera à procéder à d'éventuels casts dans la fonction. On fera également attention au sens dans lequel on procède aux concaténations de chaînes de caractères.\n",
    "\n",
    "Voici le prototype de la fonction :\n",
    "```python\n",
    "def int2bin(n):\n",
    "    \"\"\"\n",
    "    :param n: nombre en base 10 à convertir en binaire\n",
    "    :return: str contient la representation binaire de n\n",
    "    \"\"\"\n",
    "```\n",
    "**Note :** Aucun test ne sera fait dans la fonction pour vérifier la validité du paramètre."
   ]
  },
  {
   "cell_type": "code",
   "execution_count": 12,
   "metadata": {},
   "outputs": [
    {
     "data": {
      "text/plain": [
       "'10000'"
      ]
     },
     "execution_count": 12,
     "metadata": {},
     "output_type": "execute_result"
    }
   ],
   "source": [
    "#-------------------------#\n",
    "def int2bin(n):\n",
    "    binaire=\"\"\n",
    "    if n == 0:\n",
    "        binaire =\"0\"\n",
    "        return binaire\n",
    "    while n != 0:\n",
    "        binaire= str(n%2) + binaire \n",
    "        n=n//2\n",
    "    return binaire \n",
    "\n",
    "\n",
    "\n",
    "int2bin(16)\n",
    "\n",
    "\n",
    "\n",
    "#-------------------------#\n",
    "\n",
    "\n"
   ]
  },
  {
   "cell_type": "code",
   "execution_count": 13,
   "metadata": {},
   "outputs": [
    {
     "name": "stdout",
     "output_type": "stream",
     "text": [
      "test OK\n"
     ]
    }
   ],
   "source": [
    "# ------------  TEST/EXEMPLE ---------- #\n",
    "def test_int2bin():\n",
    "    assert int2bin(0)=='0'\n",
    "    assert int2bin(7)=='111'\n",
    "    assert int2bin(16)=='10000'\n",
    "    print(\"test OK\")\n",
    "    \n",
    "test_int2bin()"
   ]
  },
  {
   "cell_type": "markdown",
   "metadata": {
    "deletable": false,
    "editable": false,
    "run_control": {
     "frozen": true
    }
   },
   "source": [
    "## 1ère Partie : Code à parité simple\n",
    "\n",
    "\n",
    "Dans la technologie des objets de l'internet (IOT), il faut souvent transmettre des informations de capteurs  (par exemple, d'un capteur de température) vers un serveur (par exemple un serveur broker MQTT/*Message Queuing Telemetry Transport*).\n",
    "\n",
    "Dans ce qui suit, on développe les outils logiciels qui interviennent dans la transmission d'un nombre entier (écrit en base 10).\n",
    "\n",
    "Dans la partie préliminaire, une fonction de conversion de décimal en binaire a été définie. On sait donc comment mettre sous forme binaire l'information à transmettre. "
   ]
  },
  {
   "cell_type": "markdown",
   "metadata": {
    "deletable": false,
    "editable": false,
    "run_control": {
     "frozen": true
    }
   },
   "source": [
    "### Question 1 : Calcul du bit de parité\n",
    "\n",
    "Lors d'une transmission, des erreurs peuvent se produire (dûes à des interférences par exemple). La technique dite du bit de parité permet de détecter simplement certaines erreurs.\n",
    "\n",
    "**Principe :**\n",
    "- comptage du nombre de `1` dans la représentation binaire d'une information,\n",
    "- calcul du bit de parité : si le nombre de `1` est impair, le bit de parité vaut 1, sinon il vaut 0.\n",
    "\n",
    "**Exemple :**\n",
    "```\n",
    "information = 1101\n",
    "bit de parité  ---> 1\n",
    "```\n",
    "Ecrire une fonction `parite` prenant en paramètres une chaine de caractères représentant une information binaire et qui retourne `True` si le bit de parité vaut 1 (*i.e.*, si le nombre de 1 est impair), `False` sinon.\n",
    "\n",
    "Voici le prototype de la fonction :\n",
    "```python\n",
    "def parite(str_bin):\n",
    "    \"\"\"\n",
    "    Calcul du bit de parité du nombre binaire\n",
    "    :param str_bin: str contenant la représentation binaire d'un nombre\n",
    "    :return : bool, True -> bit de parité à 1, False -> bit de parité à 0\n",
    "    \"\"\"\n",
    "```"
   ]
  },
  {
   "cell_type": "code",
   "execution_count": 14,
   "metadata": {},
   "outputs": [
    {
     "name": "stdout",
     "output_type": "stream",
     "text": [
      "True\n"
     ]
    }
   ],
   "source": [
    "#-------------------------#\n",
    "def parite(chaine):\n",
    "    i=0\n",
    "    c=chaine\n",
    "    d=\"\"\n",
    "    un=0\n",
    "    \n",
    "    while i <len(chaine):\n",
    "        \n",
    "        if c[i]==\"1\":\n",
    "            \n",
    "            un=1+un\n",
    "        i=i+1\n",
    "        \n",
    "    if un %2==1:\n",
    "        \n",
    "        return True\n",
    "    else :\n",
    "        return False\n",
    "\n",
    "    \n",
    "    \n",
    "a=\"111101011\"\n",
    "b=parite(a)\n",
    "print(b)\n",
    "\n",
    "#-------------------------#\n",
    "\n",
    "\n"
   ]
  },
  {
   "cell_type": "code",
   "execution_count": 15,
   "metadata": {},
   "outputs": [
    {
     "name": "stdout",
     "output_type": "stream",
     "text": [
      "test ok\n"
     ]
    }
   ],
   "source": [
    "# ------------  TEST/EXEMPLE ---------- #\n",
    "def test_parite():\n",
    "    assert not parite('0000')\n",
    "    assert parite('10000')\n",
    "    assert not parite('1010')\n",
    "    assert parite('11111')\n",
    "    print(\"test ok\")\n",
    "    \n",
    "test_parite()"
   ]
  },
  {
   "cell_type": "markdown",
   "metadata": {
    "deletable": false,
    "editable": false,
    "run_control": {
     "frozen": true
    }
   },
   "source": [
    "### Question 2 : Constitution de la trame à envoyer\n",
    "\n",
    "La trame à envoyer pour transmettre l'information est constituée de 11 bits :\n",
    "- le bit le plus à gauche (de poids le plus fort) est le bit de parité ;\n",
    "- les autres bits représentent l'information. Si l'information n'occupe pas tous les bits alors des `0` seront rajoutés en tête, par exemple si l'information n'occupe réellement que 4 bits (bit 0 à bit 3), tous les autres bits de poids supérieurs (bit 4 à bit 10) seront mis à zéro.\n",
    "\n",
    "**Exemple :**\n",
    "```\n",
    "information = 1101\n",
    "bit de parité ---> 1\n",
    "la trame à envoyer est donc 10000001101\n",
    "```\n",
    "\n",
    "Ecrire une fonction `trame` prenant un nombre entier compris entre 0 et 1023 (c'est le nombre décimal maximal codable sur 10 bits) et qui retourne une chaîne de caractères correspondant à la trame qui sera effectivement envoyée.\n",
    "\n",
    "Voici le prototype de la fonction :\n",
    "```python\n",
    "def trame(n):\n",
    "    \"\"\"\n",
    "    Contruit une trame sur 11 bits sous la forme\n",
    "    bit parite | bit 10 | bit 9 | .... | bit 1 | bit 0 |\n",
    "    bit parite : est le bit de parité\n",
    "    bit 10 à bit 0 : information à transmettre\n",
    "    :param n: entier (en base 10) à transmettre dans la trame\n",
    "    :return : str, trame sur 11 bits qui sera transmise\n",
    "    \"\"\"\n",
    "```\n",
    "**Note :** Aucun test ne sera fait dans la fonction pour vérifier la validité du paramètre."
   ]
  },
  {
   "cell_type": "code",
   "execution_count": 16,
   "metadata": {},
   "outputs": [
    {
     "name": "stdout",
     "output_type": "stream",
     "text": [
      "10000010000\n"
     ]
    }
   ],
   "source": [
    "#-------------------------#\n",
    "def trame(n):\n",
    "    i=-1\n",
    "    b=0\n",
    "    \n",
    "    \n",
    "    \n",
    "    if n >=0 and n <=1023:\n",
    "        a=int2bin(n)\n",
    "\n",
    " \n",
    "        \n",
    "    c= 11-len(a)\n",
    "    d=\"0\"\n",
    "    e=d*c +a\n",
    "        \n",
    "        \n",
    "    while i <len(a)-1:\n",
    "        \n",
    "        i=i+1\n",
    "        if a[i]==\"1\":\n",
    "            b=int(a[i])+b\n",
    "            \n",
    "            \n",
    "    if b %2==1:\n",
    "        c=10 -len(a)\n",
    "        d=\"0\"\n",
    "        e=\"1\"+d*c\n",
    "        f=e+a\n",
    "        return(f)\n",
    "        \n",
    "    else :\n",
    "        return(e)\n",
    "        \n",
    "            \n",
    "\n",
    "\n",
    "    \n",
    "    \n",
    "a=trame(16)\n",
    "print(a)\n",
    "\n",
    "#-------------------------#\n",
    "   \n",
    "    "
   ]
  },
  {
   "cell_type": "code",
   "execution_count": 17,
   "metadata": {},
   "outputs": [
    {
     "name": "stdout",
     "output_type": "stream",
     "text": [
      "test ok\n"
     ]
    }
   ],
   "source": [
    "# ------------  TEST/EXEMPLE ---------- #\n",
    "def test_trame():\n",
    "    assert trame(10)=='00000001010'\n",
    "    assert trame(16)=='10000010000'\n",
    "    assert trame(31)=='10000011111'\n",
    "    assert trame(0)=='00000000000'\n",
    "    print(\"test ok\")\n",
    "\n",
    "test_trame()"
   ]
  },
  {
   "cell_type": "markdown",
   "metadata": {
    "deletable": false,
    "editable": false,
    "run_control": {
     "frozen": true
    }
   },
   "source": [
    "### Question 3 : Vérification de la validité de la trame reçue\n",
    "\n",
    "Lors de la réception du message, on peut tester s'il n'y a pas eu de problème de transmission du message en vérifiant que la trame est correcte. Il faut en effet que le bit de parité corresponde bien au 10 bits qui le précède. \n",
    "\n",
    "- Ecrire une fonction `verifTrame` prenant une chaîne de 11 caractères binaires et qui retourne `True` si la trame est correcte (*i.e*, la chaîne est de longueur 11, elle est composée de `0`et de `1` et que le premier bit correspond bien au bit de parité des 10 bit précédents et `False` sinon. \n",
    "- Ecrire également une fonction `test_verifTrame` de tests unitaires permettant de vérifier la conformité de la fonction `verifTram`.\n",
    "\n",
    "Voici le prototype de la fonction :\n",
    "```python\n",
    "def verifTrame(trm):\n",
    "    \"\"\"\n",
    "    Vérifie si la chaine est binaire, de longueur 11, et que le \n",
    "    premier bit est le bit de parité des 10 bit précédents\n",
    "    :param trm: une chaine de caractères \n",
    "    :return : bool, True -> c'est une trame de code de parité, \n",
    "    False sinon \n",
    "    \"\"\"\n",
    "```\n",
    "On pensera à utiliser la fonction `verifBin()` définie dans la partie préliminaire."
   ]
  },
  {
   "cell_type": "code",
   "execution_count": 18,
   "metadata": {},
   "outputs": [
    {
     "name": "stdout",
     "output_type": "stream",
     "text": [
      "True\n",
      "test OK\n"
     ]
    }
   ],
   "source": [
    "#-------------------------#\n",
    "def verifTrame(trm):\n",
    "    \n",
    "    if verifBin(trm)== True and len(trm)==11 and parite(trm) %2 ==0:\n",
    "        return True\n",
    "    else:\n",
    "        return False\n",
    "\n",
    "\n",
    "a=verifTrame(\"00000001010\")\n",
    "print(a)\n",
    "\n",
    "\n",
    "def test_verifTrame():\n",
    "    assert verifTrame(\"00000001010\")==True\n",
    "    assert verifTrame(\"10000011111\")==True\n",
    "    assert verifTrame(\"00000101110\")==True\n",
    "    print(\"test OK\")\n",
    "        \n",
    "\n",
    "    \n",
    "test_verifTrame()\n",
    "\n",
    "\n",
    "#-------------------------#\n",
    "\n",
    "\n"
   ]
  },
  {
   "cell_type": "code",
   "execution_count": 19,
   "metadata": {},
   "outputs": [
    {
     "name": "stdout",
     "output_type": "stream",
     "text": [
      "la trame est valide\n"
     ]
    }
   ],
   "source": [
    "# ------------  TEST/EXEMPLE ---------- #\n",
    "if verifTrame('00000001010'):\n",
    "    print(\"la trame est valide\")\n",
    "else :\n",
    "    print(\"erreur\")"
   ]
  },
  {
   "cell_type": "markdown",
   "metadata": {},
   "source": [
    "### Question 4 : Décodage de la trame reçue \n",
    "Après avoir vérifié que la trame est correcte, il reste à décoder l'information.\n",
    "- Ecrire une fonction `decodeTrame()`qui prend en paramètre une trame que l'on suppose correcte et qui retourne sous forme décimale l'information contenue dans cette trame, *i.e* l'entier qui est codé en binaire.\n",
    "- Ecrire également une fonction `test_decodeTrame` de tests unitaires permettant de vérifier la conformité de la fonction `decodeTram`."
   ]
  },
  {
   "cell_type": "code",
   "execution_count": 20,
   "metadata": {},
   "outputs": [
    {
     "name": "stdout",
     "output_type": "stream",
     "text": [
      "10\n",
      "test OK\n"
     ]
    }
   ],
   "source": [
    "#-------------------------#\n",
    "def decodeTrame(trame):\n",
    "    i=10\n",
    "    j=0\n",
    "    s=0\n",
    "    while i >=1:\n",
    "        s=s+int(trame[i])*(2**j)\n",
    "        i=i-1\n",
    "        j=j+1\n",
    "    return s\n",
    "\n",
    "\n",
    "a=\"00000001010\"\n",
    "b=decodeTrame(a)\n",
    "print(b)\n",
    "\n",
    "   \n",
    "def test_decodeTrame():\n",
    "    assert decodeTrame(\"00000001010\")==10\n",
    "    assert decodeTrame(\"00000101010\")==42\n",
    "    assert decodeTrame(\"00000101110\")==46\n",
    "    print(\"test OK\")\n",
    "        \n",
    "\n",
    "    \n",
    "test_decodeTrame()\n",
    "\n",
    "#-------------------------#\n",
    "\n",
    "\n"
   ]
  },
  {
   "cell_type": "code",
   "execution_count": 21,
   "metadata": {},
   "outputs": [
    {
     "name": "stdout",
     "output_type": "stream",
     "text": [
      "00000001010 est le codage de  10\n"
     ]
    }
   ],
   "source": [
    "# ------------  TEST/EXEMPLE ---------- #\n",
    "print(\"00000001010 est le codage de \", decodeTrame(\"00000001010\"))"
   ]
  },
  {
   "cell_type": "markdown",
   "metadata": {
    "deletable": false,
    "editable": false,
    "run_control": {
     "frozen": true
    }
   },
   "source": [
    "### Question 5 : Programme principal\n",
    "On souhaite pouvoir transmettre des nombres entre 0 et 1023 (qui est le plus grand entier que l'on écrire sur 10 bits).\n",
    "\n",
    "- Demander à l'utilisateur de saisir un nombre en utilisant la fonction de saisie contrôlée appropriée définie dans la partie préliminaire.\n",
    "- Coder ce nombre selon le codage à bit de parité simple à l'aide de la fonction définie précédemment.\n",
    "- Afficher ce codage.\n",
    "- Après avoir vérifié que la trame est correcte, decoder l'information à l'aide de la fonction définie pour cela.\n",
    "- Afficher le nombre obtenu.\n",
    "- Vérifier qu'il s'agit du nombre initial."
   ]
  },
  {
   "cell_type": "code",
   "execution_count": 22,
   "metadata": {},
   "outputs": [
    {
     "name": "stdout",
     "output_type": "stream",
     "text": [
      "20\n",
      "00000010100\n",
      "True\n",
      "20\n",
      "Il s'agit bien du nombre initial\n"
     ]
    }
   ],
   "source": [
    "#-------------------------#\n",
    "nombre=int(input())\n",
    "a=saisieIntPos10Bits(nombre)\n",
    "b=trame(a)\n",
    "print(b)\n",
    "c=verifTrame(b)\n",
    "print(c)\n",
    "d=decodeTrame(b)\n",
    "print(d)\n",
    "if a == d:\n",
    "    print(\"Il s'agit bien du nombre initial\")\n",
    "else :\n",
    "    print(\"Il ne s'agit pas du nombre initial \")\n",
    "\n",
    "\n",
    "\n",
    "#-------------------------#\n",
    "\n",
    "\n"
   ]
  },
  {
   "cell_type": "markdown",
   "metadata": {},
   "source": [
    "## 2ème partie : Chiffrement de César"
   ]
  },
  {
   "cell_type": "markdown",
   "metadata": {
    "deletable": false,
    "editable": false,
    "run_control": {
     "frozen": true
    }
   },
   "source": [
    "Le chiffrement de César est une des plus anciennes méthodes de cryptographie. Il repose sur la rotation vers la droite de l’alphabet d’un nombre fixé de caractères. \n",
    "\n",
    "Par exemple, si on considère une rotation de 3 positions, on obtient pour les lettres minuscules la table de conversion ci-dessous :\n",
    "\n",
    "\n",
    "\n",
    "|lettre originale|a|b|c|d|e|f|g|h|i|j|k|l|m|n|o|p|q|r|s|t|u|v|w|x|y|z|\n",
    "|----------------|-|-|-|-|-|-|-|-|-|-|-|-|-|-|-|-|-|-|-|-|-|-|-|-|-|-|\n",
    "|lettre codée    |d|e|f|g|h|i|j|k|l|m|n|o|p|q|r|s|t|u|v|w|x|y|z|a|b|c|\n",
    "\n",
    "On a une table analogue pour les lettres majuscules. Les autres caractères ne sont pas cryptés mais simplement recopiés. \n",
    " \n",
    "Pour la rotation de 3 positions, si la phrase à chiffrer est `bonjour, il fait beau`, le message chiffré est alors `erqmrxu, lo idlw ehdx`. \n",
    "\n",
    "Il est bien sûr possible de changer le nombre de positions\n",
    "correspondant à la rotation. Ainsi, si l'on décide de décaler d'une seule position, le même message est alors chiffré en `cpokpvs jm gbju cfbv`. \n",
    "\n",
    "Le nombre correspondant à la rotation est appelé la *clé* du code\n",
    "car il permet le déchiffrementdu message. *La clé est un entier\n",
    "  compris entre 1 et 25*.\n",
    "\n",
    "L'objectif est d'écrire des fonctions de chiffrement et de déchiffrement de textes pour le code de César."
   ]
  },
  {
   "cell_type": "markdown",
   "metadata": {
    "deletable": false,
    "editable": false,
    "run_control": {
     "frozen": true
    }
   },
   "source": [
    "### Question 1 : Chiffrement d'un caractère\n",
    "Ecrire une fonction `chiffreCar_cesar` prenant en paramètres\n",
    "un caractère et la clé de chiffrement.  Cette fonction retournera le\n",
    "caractère codé si le caractère est une lettre minuscule ou majuscule. Sinon, la fonction renverra le caractère initial.  Ainsi `chiffreCar_cesar('a',3)` renvoie `'d'`, `chiffreCar_cesar('d', 23)` renvoie `'a'`, `chiffreCar_cesar('C',4)` renvoie `'G'`.\n",
    "\n",
    "**Indications :** \n",
    "On rappelle que l'on peut comparer des caractères avec les opérateurs `<,>, ==`et `!=`.\n",
    "\n",
    "La fonction `ord(c)` retourne le code Unicode du caractère `c` et la fonction `chr(i)` retourne la lettre dont le code Unicode est `i`. Par exemple :\n",
    "  ```python\n",
    "  uni = ord(\"a\") # uni vaut 97 car l'unicode de \"a\" est 97\n",
    "  lettre = chr(98)  # lettre vaut \"b\" car 98 est son unicode\n",
    "  print( chr(ord(\"a\")) == \"a\") # affiche True\n",
    "  ```\n",
    "  \n",
    "On rappelle que les unicodes des lettres minuscules sont consécutifs, compris entre 97 et 122  et suivent l'ordre alphabétique :  l'unicode de `'a'` est 97, celui de `'b'` est 98, etc, celui de `'z'` est 12. Il en est de même pour les unicodes des lettres majuscules qui varient de 65 pour `'A'`à 90 pour `'Z'`."
   ]
  },
  {
   "cell_type": "code",
   "execution_count": 23,
   "metadata": {},
   "outputs": [
    {
     "name": "stdout",
     "output_type": "stream",
     "text": [
      "d\n"
     ]
    }
   ],
   "source": [
    "#-------------------------#\n",
    "def chiffreCar_cesar(caractere,cle):\n",
    "    a=ord(caractere)\n",
    "    b=a+cle\n",
    "    c=cle-26\n",
    "    d=a+c\n",
    "    \n",
    "    if b >= 97 and b <=122:\n",
    "        return chr(b)\n",
    "    elif b >= 65 and b <= 90 and a >= 65 and a <= 90:\n",
    "        return chr(b)\n",
    "    elif a <65 or a >122:\n",
    "        return caractere\n",
    "    else :\n",
    "        return chr(d)\n",
    "    \n",
    "    \n",
    "a=\"a\"\n",
    "b=3\n",
    "\n",
    "c=chiffreCar_cesar(a,b)\n",
    "print(c)\n",
    "\n",
    "\n",
    "\n",
    "\n",
    "#-------------------------#\n",
    "\n",
    "\n"
   ]
  },
  {
   "cell_type": "code",
   "execution_count": 24,
   "metadata": {},
   "outputs": [
    {
     "name": "stdout",
     "output_type": "stream",
     "text": [
      "test OK\n"
     ]
    }
   ],
   "source": [
    "# ------------  TEST/EXEMPLE ---------- #\n",
    "def test_chiffreCar_cesar():\n",
    "    assert chiffreCar_cesar('a',3)=='d'\n",
    "    assert chiffreCar_cesar('d', 23) =='a'\n",
    "    assert chiffreCar_cesar('C',4)=='G'\n",
    "    assert chiffreCar_cesar('@',17)=='@'\n",
    "    print(\"test OK\")\n",
    "    \n",
    "test_chiffreCar_cesar()"
   ]
  },
  {
   "cell_type": "markdown",
   "metadata": {
    "deletable": false,
    "editable": false,
    "run_control": {
     "frozen": true
    }
   },
   "source": [
    "### Question 2 : Chiffrement d'une chaîne de caractères\n",
    "\n",
    "En utilisant la fonction `chiffreCar_cesar`, écrire une fonction `chiffre_cesar` qui prend en paramètres une chaîne de caractères et la clé de chiffrement et qui retourne la chaîne chiffrée. "
   ]
  },
  {
   "cell_type": "code",
   "execution_count": 72,
   "metadata": {},
   "outputs": [
    {
     "name": "stdout",
     "output_type": "stream",
     "text": [
      "H'jxy xzujw qf hwduytlwfumnj\n"
     ]
    }
   ],
   "source": [
    "#-------------------------#\n",
    "def chiffre_cesar(caract,cle_chiffrement):\n",
    "    i=-1\n",
    "    c=\"\"\n",
    "    \n",
    "    while i < len(caract)-1:\n",
    "        i=i+1\n",
    "        a=caract[i]\n",
    "        b=chiffreCar_cesar(a,cle_chiffrement)\n",
    "        c=c+b\n",
    "    return c\n",
    "\n",
    "\n",
    "\n",
    "a=\"C'est super la cryptographie\"\n",
    "b=5\n",
    "a=chiffre_cesar(a,b)\n",
    "print(a)\n",
    "\n",
    "\n",
    "#-------------------------#\n",
    "\n",
    "\n"
   ]
  },
  {
   "cell_type": "code",
   "execution_count": 73,
   "metadata": {},
   "outputs": [
    {
     "name": "stdout",
     "output_type": "stream",
     "text": [
      "Test ok\n"
     ]
    }
   ],
   "source": [
    "# ------------  TEST/EXEMPLE ---------- #\n",
    "def test_chiffre_cesar():\n",
    "    assert chiffre_cesar(\"bonjour, il fait beau\",3)== \"erqmrxu, lo idlw ehdx\"\n",
    "    assert chiffre_cesar(\"Bonjour\",7)==\"Ivuqvby\"\n",
    "    assert chiffre_cesar(\"C'est super la cryptographie\",5)== \"H'jxy xzujw qf hwduytlwfumnj\"\n",
    "    print(\"Test ok\")\n",
    "\n",
    "test_chiffre_cesar()"
   ]
  },
  {
   "cell_type": "markdown",
   "metadata": {
    "deletable": false,
    "editable": false,
    "run_control": {
     "frozen": true
    }
   },
   "source": [
    "### Question 3\n",
    "Ecrire une fonction `dechiffre_cesar()` permettant de\n",
    "déchiffrer un message codé avec le chiffrement de César. Cette fonction prendra comme paramètres la chaîne chiffrée et la clé de chiffrement.\n",
    "\n",
    "**Remarque**: Les valeurs des clés de chiffrement et de déchiffrement sont liées : la somme de la valeur de la clé de codage et de celle de décodage est égale à 26.  Ainsi si le codage est fait avec la clé 3, le décodage se fait avec la clé 23. Si le codage est fait avec la clé 10, le décodage se fait avec la clé 16."
   ]
  },
  {
   "cell_type": "code",
   "execution_count": 76,
   "metadata": {},
   "outputs": [
    {
     "name": "stdout",
     "output_type": "stream",
     "text": [
      "hello WORLD\n"
     ]
    }
   ],
   "source": [
    "#-------------------------#\n",
    "def chiff_cesar(chaine_chiff,cle_chiff):\n",
    "    a=ord(chaine_chiff)\n",
    "    b=a-cle_chiff\n",
    "    c=cle_chiff-26\n",
    "    d=a+cle_chiff\n",
    "    e=97-a\n",
    "    f=cle_chiff+e\n",
    "    g=123-f\n",
    "    \n",
    "    \n",
    "    if a >=97 and a <=122 and b <=122 and b >= 97:\n",
    "        return chr(b)\n",
    "    elif a >=97 and a <=122 and b < 97:\n",
    "        return chr(g)\n",
    "    \n",
    "    elif a >=65 and a <=90 and b >= 65 and b <=90:\n",
    "        return chr(b)\n",
    "    elif a >=65 and a <=90 and b <65:\n",
    "        return chr(d)\n",
    "    \n",
    "    elif a <65 or a >122:\n",
    "        return chaine_chiff\n",
    "    \n",
    "def dechiffre_cesar(caractere,cle_chiffrement):\n",
    "    i=-1\n",
    "    c=\"\"\n",
    "    \n",
    "    while i <len(caractere)-1:\n",
    "        i=i+1\n",
    "        a=caractere[i]\n",
    "        b=chiff_cesar(a,cle_chiffrement)\n",
    "        c=c+b\n",
    "    return c\n",
    "    \n",
    "    \n",
    "    \n",
    "\n",
    "a=\"uryyb JBEYQ\"\n",
    "b=13\n",
    "c=dechiffre_cesar(a,b)\n",
    "print(c)\n",
    "\n",
    "#-------------------------#\n",
    "\n",
    "\n"
   ]
  },
  {
   "cell_type": "code",
   "execution_count": 28,
   "metadata": {},
   "outputs": [
    {
     "name": "stdout",
     "output_type": "stream",
     "text": [
      "Test ok\n"
     ]
    }
   ],
   "source": [
    "# ------------  TEST/EXEMPLE ---------- #\n",
    "def test_dechiffre_cesar():\n",
    "    assert dechiffre_cesar(\"uryyb JBEYQ\",13)==\"hello WORLD\"\n",
    "    assert dechiffre_cesar(\"Ivuqvby\",7)==\"Bonjour\"\n",
    "    assert dechiffre_cesar(\"jgnnq YQTNF\",2)==\"hello WORLD\"\n",
    "    print(\"Test ok\")\n",
    "    \n",
    "test_dechiffre_cesar()"
   ]
  },
  {
   "cell_type": "markdown",
   "metadata": {
    "deletable": false,
    "editable": false,
    "run_control": {
     "frozen": true
    }
   },
   "source": [
    "### Question 4 : \"C'est super la cryptographie\"\n",
    "Ecrire un progamme qui vérifie que le message `C'est super la cryptographie !` chiffré avec la clé 5 donne `H'jxy xzujw qf hwduytlwfumnj !` et que le déchiffrement de cette chaîne avec la clé 5 redonne bien `C'est super la cryptographie !`."
   ]
  },
  {
   "cell_type": "code",
   "execution_count": 29,
   "metadata": {},
   "outputs": [
    {
     "name": "stdout",
     "output_type": "stream",
     "text": [
      "True\n"
     ]
    }
   ],
   "source": [
    "#-------------------------#\n",
    "\n",
    "\n",
    "def verif_cesar(chiffrer,dechiff,cle):\n",
    "\n",
    "    d=chiffre_cesar(chiffrer,cle)\n",
    "    e=dechiffre_cesar(dechiff,cle)\n",
    "    if d==dechiff and e==chiffrer:\n",
    "        return True\n",
    "    else:\n",
    "        return False\n",
    "    \n",
    "    \n",
    "a=\"C'est super la cryptographie !\"\n",
    "b=\"H'jxy xzujw qf hwduytlwfumnj !\"\n",
    "c=verif_cesar(a,b,5)\n",
    "print(c)\n",
    "\n",
    "\n",
    "\n",
    "\n",
    "\n",
    "\n",
    "\n",
    "\n",
    "#-------------------------#\n",
    "\n",
    "\n"
   ]
  },
  {
   "cell_type": "markdown",
   "metadata": {
    "deletable": false,
    "editable": false,
    "run_control": {
     "frozen": true
    }
   },
   "source": [
    "### Question 5 : ROT 13\n",
    "\n",
    "Un cas particulier du chiffrement de César est le chiffrement [ROT13](https://fr.wikipedia.org/wiki/ROT13) qui correspond au chiffrement de César avec la clé 13. L'intérêt de ce chiffrement est que le chiffrement correspond au déchiffrement.\n",
    "Définir les fonctions `chiffre_ROT13` et `dechiffre_ROT13` en utilisant la fonction `chiffre_cesar`.\n",
    "\n",
    "Afficher le chiffrement de `hello world` selon le chiffrement ROT13. Déchiffrer le message obtenu, afficher le résultat et vérifier que c'est bien `hello word`."
   ]
  },
  {
   "cell_type": "code",
   "execution_count": 30,
   "metadata": {},
   "outputs": [
    {
     "name": "stdout",
     "output_type": "stream",
     "text": [
      "uryyb jbeyq\n",
      "hello world\n",
      "True\n"
     ]
    }
   ],
   "source": [
    "#-------------------------#\n",
    "def chiffre_ROT13(caract,cle_chiffrement):\n",
    "    i=-1\n",
    "    c=\"\"\n",
    "    \n",
    "    while i < len(caract)-1:\n",
    "        i=i+1\n",
    "        a=caract[i]\n",
    "        b=chiffreCar_cesar(a,cle_chiffrement)\n",
    "        c=c+b\n",
    "    return c\n",
    "\n",
    "\n",
    "def dechiffre_ROT13(caractere,cle_chiffrement):\n",
    "    i=-1\n",
    "    c=\"\"\n",
    "    \n",
    "    while i <len(caractere)-1:\n",
    "        i=i+1\n",
    "        a=caractere[i]\n",
    "        b=chiff_cesar(a,cle_chiffrement)\n",
    "        c=c+b\n",
    "    return c\n",
    "    \n",
    "\n",
    "\n",
    "\n",
    "a=\"hello world\"\n",
    "b=13\n",
    "c=\"uryyb jbeyq\"\n",
    "d=chiffre_ROT13(a,b)\n",
    "e=dechiffre_ROT13(c,b)\n",
    "print(d)\n",
    "print(e)\n",
    "\n",
    "if d ==c and e==a:\n",
    "    print(\"True\")\n",
    "else :\n",
    "    print(\"False\")\n",
    "\n",
    "\n",
    "\n",
    "#-------------------------#\n",
    "\n",
    "\n"
   ]
  },
  {
   "cell_type": "markdown",
   "metadata": {
    "deletable": false,
    "editable": false,
    "run_control": {
     "frozen": true
    }
   },
   "source": [
    "### Question 6 : Vulnérabilité du code de César\n",
    "\n",
    "Le code de César est très simple, il nécessite seulement que le destinataire connaisse la clé de chiffrement. Il est également très vulnérable.\n",
    "\n",
    "Comment déchiffrer `oaz jk borrkzgtkayk` ? \n",
    "\n",
    "Ecrire une fonction `hackCesar` qui prend en paramètre un message chiffré et affiche tous les décodages possibles. \n",
    "\n",
    "Qu'est-ce qui se cache derrière le message  `oaz jk borrkzgtkayk`?"
   ]
  },
  {
   "cell_type": "code",
   "execution_count": 31,
   "metadata": {},
   "outputs": [
    {
     "name": "stdout",
     "output_type": "stream",
     "text": [
      "oaz jk borrkzgtkayk\n",
      "nzy ij anqqjyfsjzxj\n",
      "myx hi zmppixeriywi\n",
      "lxw gh yloohwdqhxvh\n",
      "kwv fg xknngvcpgwug\n",
      "jvu ef wjmmfubofvtf\n",
      "iut de villetaneuse\n",
      "hts cd uhkkdszmdtrd\n",
      "gsr bc tgjjcrylcsqc\n",
      "frq ab sfiibqxkbrpb\n",
      "eqp za rehhapwjaqoa\n",
      "dpo yz qdggzovizpnz\n",
      "con xy pcffynuhyomy\n",
      "bnm wx obeexmtgxnlx\n",
      "aml vw naddwlsfwmkw\n",
      "zlk uv mzccvkrevljv\n",
      "ykj tu lybbujqdukiu\n",
      "xji st kxaatipctjht\n",
      "wih rs jwzzshobsigs\n",
      "vhg qr ivyyrgnarhfr\n",
      "ugf pq huxxqfmzqgeq\n",
      "tfe op gtwwpelypfdp\n",
      "sed no fsvvodkxoeco\n",
      "rdc mn eruuncjwndbn\n",
      "qcb lm dqttmbivmcam\n",
      "pba kl cpsslahulbzl\n"
     ]
    }
   ],
   "source": [
    "#-------------------------#\n",
    "def hackCesar(caract):\n",
    "    i=-1\n",
    "    while i <25:\n",
    "        i=i+1\n",
    "        b=dechiffre_cesar(caract,i)\n",
    "        print(b)\n",
    "    \n",
    "    \n",
    "    \n",
    "    \n",
    "\n",
    "\n",
    "\n",
    "a=\"oaz jk borrkzgtkayk\"\n",
    "b=hackCesar(a)\n",
    "    \n",
    "\n",
    "# Le message qui se cache derrière oaz jk borrkzgtkayk est iut de villetaneuse\n",
    "\n",
    "#-------------------------#\n",
    "\n",
    "\n"
   ]
  },
  {
   "cell_type": "markdown",
   "metadata": {
    "deletable": false,
    "editable": false,
    "run_control": {
     "frozen": true
    }
   },
   "source": [
    "### Question 7 : Chiffrement d'un fichier \n",
    "\n",
    "- Ecrire une fonction prenant en paramètres un fichier `fichier` et une clé de chiffrement et qui écrit dans `fichier_chiffré` la version chiffrée.\n",
    "\n",
    "- Tester cette fonction sur les fichiers `files/lorem.txt` puis `files/zadig.txt`."
   ]
  },
  {
   "cell_type": "code",
   "execution_count": 79,
   "metadata": {},
   "outputs": [
    {
     "name": "stdout",
     "output_type": "stream",
     "text": [
      "Fichier chiffré :  Ijxnwj jxy ytrgj jsywj qjx rfnsx qj rtdjs ij r'js thhzujw. Vzjqqj ijhjuynts o'juwtzafn qjx otzwx xznafsyx kzwjsy thhzujx f vzjqvzjx ujynyjx hfgfsjx ij gtnx, f rtnsx ytzyjktnx, kfny vzn uwtzaj fz rtnsx vz'f ujwxtssj. Jchjuyj hj ijyfnq wninhzqj htrrj fzwfny iny qj rjijhns, o'fn xtrrjnq. Kwth jy hfuzhmts x'jhfwyjwjsy xtzifns jy qfnxxjwjsy atnw, js jkkjy ! Gjxtns ij ijywznwj, vzj hjqqj ijx qjyywjx. Rfnx xtzajsy nqx js wjxyfnjsy ufqjx, jcfxujwjx ij qjzw ijhtsajszj, tzawnwjsy zs kjz antqjsy xzw qjx rfyjqtyx vzn, atdfsy hj vzj o'jsyjsix ?\n",
      "\n"
     ]
    }
   ],
   "source": [
    "from json import *\n",
    "\n",
    "def chiff_fichier(fichier,cle,fichier_chiffrer):\n",
    "    fichier=open(fichier,\"r\")\n",
    "    a=fichier.read()\n",
    "    fichier2=open(fichier_chiffrer,\"w\")\n",
    "    fichier2.write(chiffre_cesar(a,cle))\n",
    "    print(\"Fichier chiffré : \",a)\n",
    "    fichier.close()\n",
    "    fichier2.close()\n",
    "    \n",
    "    \n",
    "\n",
    "    \n",
    "\n",
    "    \n",
    "    \n",
    "\n",
    "\n",
    "chiff_fichier(\"C:/Users/fredf/OneDrive/Bureau/M1102-master/09_Dictionnnaires/files/lorem.txt\",5,\"C:/Users/fredf/OneDrive/Bureau/M1102-master/09_Dictionnnaires/files/lorem.txt\")\n",
    "\n",
    "\n",
    "\n",
    "\n",
    "\n",
    "\n",
    "\n",
    "\n",
    "\n"
   ]
  },
  {
   "cell_type": "code",
   "execution_count": 2,
   "metadata": {
    "deletable": false,
    "editable": false,
    "run_control": {
     "frozen": true
    }
   },
   "outputs": [],
   "source": [
    "#-------------------------#\n",
    "#    Écrire le code ici   #\n",
    "#-------------------------#\n",
    " \n",
    "    \n",
    "    "
   ]
  },
  {
   "cell_type": "markdown",
   "metadata": {
    "deletable": false,
    "editable": false,
    "run_control": {
     "frozen": true
    }
   },
   "source": [
    "### Question 8 : Déchiffrement d'un fichier \n",
    "- Ecrire une fonction qui prend en paramètres un fichier chiffré `fichier_chiffré` et la clé de chiffrement et qui écrit dans `fichier_déchiffré` ce qui a été déchiffré.\n",
    "\n",
    "- Tester cette fonction sur les chiffrés des fichiers `files/lorem.txt` puis `files/zadig.txt`.\n",
    "\n",
    "- Vérifier dans un terminal grâce à la fonction `diff` que la version déchiffrée des fichiers est bien la même que la version d'origine. "
   ]
  },
  {
   "cell_type": "code",
   "execution_count": 84,
   "metadata": {},
   "outputs": [
    {
     "name": "stdout",
     "output_type": "stream",
     "text": [
      "fichier déchiffré : Desire est tombe entre les mains le moyen de m'en occuper. Auelle deception j'eprouvai les jours suivants furent occupes a quelques petites cabanes de bois, a moins toutefois, fait qui prouve au moins qu'a personne. Excepte ce detail ridicule comme aurait dit le medecin, j'ai sommeil. Froc et capuchon s'ecarterent soudain et laisserent voir, en effet ! Besoin de detruire, que celle des lettres. Mais souvent ils en restaient pales, exasperes de leur deconvenue, ouvrirent un feu violent sur les matelots qui, voyant ce que j'entends ?\n",
      "\n"
     ]
    }
   ],
   "source": [
    "#-------------------------#\n",
    "def dechiff_fichier(fichier,cle,fichier_chiffrer):\n",
    "    fichier=open(fichier,\"r\")\n",
    "    a=fichier.read()\n",
    "    fichier2=open(fichier_chiffrer,\"w\")\n",
    "    fichier2.write(dechiffre_cesar(a,cle))\n",
    "    print(\"fichier déchiffré :\",a)\n",
    "    fichier.close\n",
    "    \n",
    "    \n",
    "    \n",
    "\n",
    "    \n",
    "\n",
    "    \n",
    "    \n",
    "\n",
    "\n",
    "dechiff_fichier(\"C:/Users/fredf/OneDrive/Bureau/M1102-master/09_Dictionnnaires/files/lorem.txt\",5,\"C:/Users/fredf/OneDrive/Bureau/M1102-master/09_Dictionnnaires/files/zadig.txt\")\n",
    "\n",
    "\n",
    "    \n",
    "#-------------------------#\n",
    " \n",
    "    "
   ]
  }
 ],
 "metadata": {
  "@webio": {
   "lastCommId": "c50371d2dac64fcc92a95e4a4ae17324",
   "lastKernelId": "b531d981-5992-4ac6-88e2-878a76aa508a"
  },
  "kernelspec": {
   "display_name": "Python 3",
   "language": "python",
   "name": "python3"
  },
  "language_info": {
   "codemirror_mode": {
    "name": "ipython",
    "version": 3
   },
   "file_extension": ".py",
   "mimetype": "text/x-python",
   "name": "python",
   "nbconvert_exporter": "python",
   "pygments_lexer": "ipython3",
   "version": "3.8.8"
  },
  "latex_envs": {
   "LaTeX_envs_menu_present": true,
   "autoclose": false,
   "autocomplete": true,
   "bibliofile": "biblio.bib",
   "cite_by": "apalike",
   "current_citInitial": 1,
   "eqLabelWithNumbers": true,
   "eqNumInitial": 1,
   "hotkeys": {
    "equation": "Ctrl-E",
    "itemize": "Ctrl-I"
   },
   "labels_anchors": false,
   "latex_user_defs": false,
   "report_style_numbering": false,
   "user_envs_cfg": false
  },
  "toc": {
   "base_numbering": 1,
   "nav_menu": {},
   "number_sections": true,
   "sideBar": true,
   "skip_h1_title": true,
   "title_cell": "Table des matières",
   "title_sidebar": "Table des matières",
   "toc_cell": false,
   "toc_position": {},
   "toc_section_display": true,
   "toc_window_display": false
  },
  "varInspector": {
   "cols": {
    "lenName": 16,
    "lenType": 16,
    "lenVar": 40
   },
   "kernels_config": {
    "python": {
     "delete_cmd_postfix": "",
     "delete_cmd_prefix": "del ",
     "library": "var_list.py",
     "varRefreshCmd": "print(var_dic_list())"
    },
    "r": {
     "delete_cmd_postfix": ") ",
     "delete_cmd_prefix": "rm(",
     "library": "var_list.r",
     "varRefreshCmd": "cat(var_dic_list()) "
    }
   },
   "types_to_exclude": [
    "module",
    "function",
    "builtin_function_or_method",
    "instance",
    "_Feature"
   ],
   "window_display": false
  }
 },
 "nbformat": 4,
 "nbformat_minor": 2
}
